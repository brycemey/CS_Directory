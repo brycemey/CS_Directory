{
 "cells": [
  {
   "cell_type": "code",
   "execution_count": 1,
   "metadata": {},
   "outputs": [
    {
     "name": "stdout",
     "output_type": "stream",
     "text": [
      "CSV file updated with new image names.\n"
     ]
    }
   ],
   "source": [
    "import pandas as pd\n",
    "import os\n",
    "\n",
    "# Load CSV file\n",
    "csv_path = 'sorted_names.csv'\n",
    "images_folder = 'images'  # Folder where images are stored\n",
    "\n",
    "# Load the CSV data\n",
    "data = pd.read_csv(csv_path)\n",
    "\n",
    "# Iterate over each row in the CSV\n",
    "for index, row in data.iterrows():\n",
    "    first_name = row['name'].split()[0]\n",
    "    last_name = row['name'].split()[-1]\n",
    "    original_image_name = row['image']\n",
    "    \n",
    "    # Create the new image filename in the format \"First Last.jpg\"\n",
    "    new_image_name = f\"{first_name} {last_name}.jpg\"\n",
    "    original_image_path = os.path.join(images_folder, original_image_name)\n",
    "    new_image_path = os.path.join(images_folder, new_image_name)\n",
    "    \n",
    "    # Rename the image file if it exists\n",
    "    if os.path.exists(original_image_path):\n",
    "        os.rename(original_image_path, new_image_path)\n",
    "        print(f\"Renamed {original_image_name} to {new_image_name}\")\n",
    "    \n",
    "    # Update the image column in the CSV data\n",
    "    data.at[index, 'image'] = new_image_name\n",
    "\n",
    "# Save the updated CSV\n",
    "data.to_csv(csv_path, index=False)\n",
    "print(\"CSV file updated with new image names.\")\n"
   ]
  },
  {
   "cell_type": "code",
   "execution_count": 16,
   "metadata": {},
   "outputs": [],
   "source": [
    "import os\n",
    "import re\n",
    "\n",
    "# Directory containing the images\n",
    "images_folder = \"CO2026\"\n",
    "\n",
    "# Iterate through all files in the folder\n",
    "for filename in os.listdir(images_folder):\n",
    "    # Check if the filename matches the pattern\n",
    "    match = re.match(r\"2026([A-Za-z]+)([A-Za-z]+)\\.jpg\", filename)\n",
    "    if match:\n",
    "        first_name = match.group(1)\n",
    "        last_name = match.group(2)\n",
    "        new_filename = f\"{first_name} {last_name}.jpg\"\n",
    "        \n",
    "        # Rename the file\n",
    "        os.rename(os.path.join(images_folder, filename), os.path.join(images_folder, new_filename))\n",
    "        print(f\"Renamed {filename} to {new_filename}\")\n"
   ]
  },
  {
   "cell_type": "code",
   "execution_count": 11,
   "metadata": {},
   "outputs": [],
   "source": [
    "import os\n",
    "import re\n",
    "\n",
    "# Directory containing the images\n",
    "images_folder = \"CO2026\"\n",
    "\n",
    "# Iterate through all files in the folder\n",
    "for filename in os.listdir(images_folder):\n",
    "    # Check if the filename matches the pattern\n",
    "    match = re.match(r\"([A-Za-z]+)([A-Za-z]+)\\.jpg\", filename)\n",
    "    if match:\n",
    "        first_name = match.group(1)\n",
    "        last_name = match.group(2)\n",
    "        new_filename = f\"{first_name} {last_name}.jpg\"  # Add a space between first and last names\n",
    "        \n",
    "        # Rename the file\n",
    "        os.rename(os.path.join(images_folder, filename), os.path.join(images_folder, new_filename))\n",
    "        print(f\"Renamed {filename} to {new_filename}\")\n"
   ]
  }
 ],
 "metadata": {
  "kernelspec": {
   "display_name": "Python 3",
   "language": "python",
   "name": "python3"
  },
  "language_info": {
   "codemirror_mode": {
    "name": "ipython",
    "version": 3
   },
   "file_extension": ".py",
   "mimetype": "text/x-python",
   "name": "python",
   "nbconvert_exporter": "python",
   "pygments_lexer": "ipython3",
   "version": "3.12.1"
  }
 },
 "nbformat": 4,
 "nbformat_minor": 2
}
